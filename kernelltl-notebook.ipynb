{
 "cells": [
  {
   "cell_type": "code",
   "execution_count": null,
   "metadata": {
    "trusted": true
   },
   "outputs": [],
   "source": [
    "!git clone https://github.com/MeesLursen/KernelLTL.git"
   ]
  },
  {
   "cell_type": "code",
   "execution_count": 1,
   "metadata": {
    "execution": {
     "iopub.execute_input": "2025-10-03T11:22:46.072775Z",
     "iopub.status.busy": "2025-10-03T11:22:46.072015Z",
     "iopub.status.idle": "2025-10-03T11:22:46.819199Z",
     "shell.execute_reply": "2025-10-03T11:22:46.818290Z",
     "shell.execute_reply.started": "2025-10-03T11:22:46.072737Z"
    },
    "trusted": true
   },
   "outputs": [
    {
     "name": "stdout",
     "output_type": "stream",
     "text": [
      "Already up to date.\n"
     ]
    }
   ],
   "source": [
    "!cd /kaggle/working/KernelLTL && git pull && cd .."
   ]
  },
  {
   "cell_type": "code",
   "execution_count": 2,
   "metadata": {
    "execution": {
     "iopub.execute_input": "2025-10-03T11:22:47.702888Z",
     "iopub.status.busy": "2025-10-03T11:22:47.702544Z",
     "iopub.status.idle": "2025-10-03T11:22:47.707118Z",
     "shell.execute_reply": "2025-10-03T11:22:47.706519Z",
     "shell.execute_reply.started": "2025-10-03T11:22:47.702859Z"
    },
    "trusted": true
   },
   "outputs": [],
   "source": [
    "import sys\n",
    "sys.path.insert(0, \"/kaggle/working/KernelLTL\") "
   ]
  },
  {
   "cell_type": "code",
   "execution_count": null,
   "metadata": {
    "execution": {
     "iopub.execute_input": "2025-10-03T11:22:49.069439Z",
     "iopub.status.busy": "2025-10-03T11:22:49.068446Z",
     "iopub.status.idle": "2025-10-03T11:22:50.657249Z",
     "shell.execute_reply": "2025-10-03T11:22:50.656667Z",
     "shell.execute_reply.started": "2025-10-03T11:22:49.069405Z"
    },
    "trusted": true
   },
   "outputs": [],
   "source": [
    "import math\n",
    "import torch\n",
    "from kernel_class import LTLKernel\n",
    "import time"
   ]
  },
  {
   "cell_type": "code",
   "execution_count": null,
   "metadata": {
    "execution": {
     "iopub.execute_input": "2025-10-03T11:22:50.658474Z",
     "iopub.status.busy": "2025-10-03T11:22:50.658150Z",
     "iopub.status.idle": "2025-10-03T11:22:53.629417Z",
     "shell.execute_reply": "2025-10-03T11:22:53.628609Z",
     "shell.execute_reply.started": "2025-10-03T11:22:50.658442Z"
    },
    "trusted": true
   },
   "outputs": [
    {
     "name": "stdout",
     "output_type": "stream",
     "text": [
      "cuda\n",
      "2.9663920402526855\n"
     ]
    }
   ],
   "source": [
    "start = time.time()\n",
    "\n",
    "T       = 20\n",
    "AP      = 5\n",
    "seed    = 1\n",
    "\n",
    "eps     = 0.01\n",
    "delta   = 1 - 0.99\n",
    "N       = math.ceil((2 / eps**2) * math.log(2 / delta))\n",
    "\n",
    "m       = 1024\n",
    "\n",
    "\n",
    "kernel = LTLKernel(T, AP, seed)\n",
    "print(kernel.device)\n",
    "kernel.sample_traces_kernel(N)\n",
    "kernel.sample_anchor_formulas_kernel(m)\n",
    "kernel.build_F(batch_size = 10240)\n",
    "\n",
    "\n",
    "end = time.time()\n",
    "print(end - start)"
   ]
  },
  {
   "cell_type": "code",
   "execution_count": 5,
   "metadata": {
    "execution": {
     "iopub.execute_input": "2025-10-03T11:22:54.546490Z",
     "iopub.status.busy": "2025-10-03T11:22:54.545837Z",
     "iopub.status.idle": "2025-10-03T11:22:54.719700Z",
     "shell.execute_reply": "2025-10-03T11:22:54.718835Z",
     "shell.execute_reply.started": "2025-10-03T11:22:54.546452Z"
    },
    "trusted": true
   },
   "outputs": [
    {
     "name": "stdout",
     "output_type": "stream",
     "text": [
      "tensor([-1.,  1.], device='cuda:0')\n"
     ]
    }
   ],
   "source": [
    "# --- Diagnostics ---\n",
    "print(torch.unique(kernel.F))"
   ]
  },
  {
   "cell_type": "code",
   "execution_count": 6,
   "metadata": {
    "execution": {
     "iopub.execute_input": "2025-10-03T11:22:57.459980Z",
     "iopub.status.busy": "2025-10-03T11:22:57.459262Z",
     "iopub.status.idle": "2025-10-03T11:28:44.879916Z",
     "shell.execute_reply": "2025-10-03T11:28:44.879205Z",
     "shell.execute_reply.started": "2025-10-03T11:22:57.459952Z"
    },
    "trusted": true
   },
   "outputs": [
    {
     "name": "stdout",
     "output_type": "stream",
     "text": [
      "torch.Size([78000, 1024])\n",
      "347.41565799713135\n"
     ]
    }
   ],
   "source": [
    "start = time.time()\n",
    "input_formula_list = kernel.sample_dataset_formulas_kernel(78000, 0.45, 1000)\n",
    "dataset = kernel.construct_dataset_kernel(input_formula_list, batch_size = 10240)\n",
    "\n",
    "print(dataset.shape)\n",
    "end = time.time()\n",
    "print(end - start)"
   ]
  }
 ],
 "metadata": {
  "kaggle": {
   "accelerator": "nvidiaTeslaT4",
   "dataSources": [],
   "dockerImageVersionId": 31089,
   "isGpuEnabled": true,
   "isInternetEnabled": true,
   "language": "python",
   "sourceType": "notebook"
  },
  "kernelspec": {
   "display_name": "Python 3",
   "language": "python",
   "name": "python3"
  },
  "language_info": {
   "codemirror_mode": {
    "name": "ipython",
    "version": 3
   },
   "file_extension": ".py",
   "mimetype": "text/x-python",
   "name": "python",
   "nbconvert_exporter": "python",
   "pygments_lexer": "ipython3",
   "version": "3.11.13"
  }
 },
 "nbformat": 4,
 "nbformat_minor": 4
}
